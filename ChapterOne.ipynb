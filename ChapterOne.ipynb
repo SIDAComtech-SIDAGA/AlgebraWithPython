{
 "cells": [
  {
   "cell_type": "code",
   "execution_count": 4,
   "id": "4939d057-e8e6-4232-ae8c-35542fcdc2aa",
   "metadata": {},
   "outputs": [],
   "source": [
    "import matplotlib as plt\n",
    "import numpy as np\n",
    "# Symbolic algebra libraly \n",
    "import sympy as sy\n",
    "sy.init_printing()\n",
    "np.set_printoptions(precision=3)\n",
    "np.set_printoptions(suppress=True)"
   ]
  },
  {
   "cell_type": "code",
   "execution_count": null,
   "id": "3ee38e7e-b10d-400a-af35-12c7d5841080",
   "metadata": {},
   "outputs": [],
   "source": []
  }
 ],
 "metadata": {
  "kernelspec": {
   "display_name": "Python 3 (ipykernel)",
   "language": "python",
   "name": "python3"
  },
  "language_info": {
   "codemirror_mode": {
    "name": "ipython",
    "version": 3
   },
   "file_extension": ".py",
   "mimetype": "text/x-python",
   "name": "python",
   "nbconvert_exporter": "python",
   "pygments_lexer": "ipython3",
   "version": "3.12.4"
  }
 },
 "nbformat": 4,
 "nbformat_minor": 5
}
